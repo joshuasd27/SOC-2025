{
 "cells": [
  {
   "cell_type": "code",
   "execution_count": 49,
   "id": "e90781b1",
   "metadata": {},
   "outputs": [],
   "source": [
    "import torch\n",
    "from torch.utils.data import TensorDataset, DataLoader\n",
    "import torch.nn as nn\n",
    "import torch.optim as optim\n",
    "import torchvision\n",
    "from torchvision import datasets, transforms\n",
    "import pandas as pd\n",
    "import os"
   ]
  },
  {
   "cell_type": "code",
   "execution_count": 50,
   "id": "437fa2a0",
   "metadata": {},
   "outputs": [],
   "source": [
    "# Set environment variables for reproducibility\n",
    "torch.backends.cudnn.benchmark = False\n",
    "torch.backends.cudnn.deterministic = True\n",
    "torch.use_deterministic_algorithms(True, warn_only=True)\n",
    "\n",
    "os.environ[\"CUBLAS_WORKSPACE_CONFIG\"] = \":4096:8\"\n",
    "\n",
    "torch.manual_seed(40)\n",
    "torch.cuda.manual_seed_all(40)"
   ]
  },
  {
   "cell_type": "code",
   "execution_count": 51,
   "id": "bd27ea6f",
   "metadata": {},
   "outputs": [
    {
     "data": {
      "text/plain": [
       "'cuda'"
      ]
     },
     "execution_count": 51,
     "metadata": {},
     "output_type": "execute_result"
    }
   ],
   "source": [
    "if torch.cuda.is_available():\n",
    "    device = 'cuda'\n",
    "else:\n",
    "    device = 'cpu'\n",
    "device"
   ]
  },
  {
   "cell_type": "code",
   "execution_count": 52,
   "id": "7eb92d40",
   "metadata": {},
   "outputs": [],
   "source": [
    "def train_model(model, train_loader, test_loader, num_epochs, loss_function, optimizer, batch_size, classes):\n",
    "    for epoch in range(num_epochs):\n",
    "        for i, (image, label) in enumerate(train_loader):\n",
    "            image = image.to(device)\n",
    "            label = label.to(device)\n",
    "        \n",
    "            optimizer.zero_grad()\n",
    "            output = model(image)\n",
    "            loss = loss_function(output, label)\n",
    "            loss.backward()\n",
    "            optimizer.step()\n",
    "        \n",
    "            if (i+1)%2500==0:\n",
    "                print(f'Epoch {epoch+1}, Step {i+1}, Loss= {loss.item():.4f}')\n",
    "    print('Training Complete')\n",
    "\n",
    "    with torch.no_grad():\n",
    "        n_correct = 0\n",
    "        n_samples = 0\n",
    "        n_class_correct = [0 for _ in range(10)]\n",
    "        n_class_samples = [0 for _ in range(10)]\n",
    "        for images, labels in test_loader:\n",
    "            images = images.to(device)\n",
    "            labels = labels.to(device)\n",
    "            output = model(images)\n",
    "            _, predicted = torch.max(output, 1)\n",
    "            n_samples += labels.size(0)\n",
    "            n_correct += (predicted==labels).sum().item()\n",
    "        \n",
    "            for i in range(batch_size):\n",
    "                label = labels[i]\n",
    "                pred = predicted[i]\n",
    "                if (label==pred):\n",
    "                    n_class_correct[label] += 1\n",
    "                n_class_samples[label] += 1\n",
    "    \n",
    "    print(f'Accuracy of the network: {100 * n_correct/n_samples} %')\n",
    "\n",
    "    for i in range(10):\n",
    "        acc = 100.0*n_class_correct[i]/n_class_samples[i]\n",
    "        print(f'Accuracy of {classes[i]} : {acc:.3f}%')"
   ]
  },
  {
   "cell_type": "code",
   "execution_count": 53,
   "id": "2c1e7a33",
   "metadata": {},
   "outputs": [],
   "source": [
    "epochs = 4\n",
    "batch_size = 4\n",
    "lr = 1e-3"
   ]
  },
  {
   "cell_type": "code",
   "execution_count": 54,
   "id": "cfa42e30",
   "metadata": {},
   "outputs": [
    {
     "name": "stdout",
     "output_type": "stream",
     "text": [
      "Files already downloaded and verified\n",
      "Files already downloaded and verified\n"
     ]
    }
   ],
   "source": [
    "transform = transforms.Compose([\n",
    "    transforms.ToTensor(),\n",
    "    transforms.Normalize((0.485, 0.456, 0.406), (0.229, 0.224, 0.225))\n",
    "])\n",
    "\n",
    "train_dataset = datasets.CIFAR10(root='./data', train=True, download=True, transform=transform)\n",
    "test_dataset = datasets.CIFAR10(root='./data', train=False, download=True, transform=transform)\n",
    "train_loader = DataLoader(train_dataset, batch_size=batch_size, shuffle=True)\n",
    "test_loader = DataLoader(test_dataset, batch_size=batch_size, shuffle=False)\n",
    "\n",
    "classes = ('plane', 'car', 'bird', 'cat', 'deer', 'dog', 'frog', 'horse', 'ship', 'truck')"
   ]
  },
  {
   "cell_type": "code",
   "execution_count": 55,
   "id": "25ef5bbb",
   "metadata": {},
   "outputs": [],
   "source": [
    "class CNN(nn.Module):\n",
    "    def __init__(self):\n",
    "        super().__init__()\n",
    "        self.model = nn.Sequential(\n",
    "            nn.Conv2d(in_channels=3, out_channels=16, kernel_size=3, padding=1),\n",
    "            nn.ReLU(),\n",
    "            nn.MaxPool2d(2),\n",
    "            nn.Conv2d(16,32,3,padding=1),\n",
    "            nn.ReLU(),\n",
    "            nn.MaxPool2d(2),\n",
    "            nn.Flatten(),\n",
    "            nn.Linear(32*8*8, 64),\n",
    "            nn.ReLU(),\n",
    "            nn.Linear(64, 10)\n",
    "        )\n",
    "    def forward(self, x):\n",
    "        return self.model(x)"
   ]
  },
  {
   "cell_type": "code",
   "execution_count": 56,
   "id": "c89c21a5",
   "metadata": {},
   "outputs": [],
   "source": [
    "model = CNN().to(device)\n",
    "loss_function = nn.CrossEntropyLoss()\n",
    "optimizer = optim.SGD(model.parameters(), lr)"
   ]
  },
  {
   "cell_type": "code",
   "execution_count": 57,
   "id": "fce90280",
   "metadata": {},
   "outputs": [
    {
     "name": "stdout",
     "output_type": "stream",
     "text": [
      "Epoch 1, Step 2500, Loss= 2.3134\n",
      "Epoch 1, Step 5000, Loss= 1.9319\n",
      "Epoch 1, Step 7500, Loss= 0.8081\n",
      "Epoch 1, Step 10000, Loss= 0.9845\n",
      "Epoch 1, Step 12500, Loss= 1.4370\n",
      "Epoch 2, Step 2500, Loss= 1.1437\n",
      "Epoch 2, Step 5000, Loss= 1.0243\n",
      "Epoch 2, Step 7500, Loss= 1.2530\n",
      "Epoch 2, Step 10000, Loss= 1.1213\n",
      "Epoch 2, Step 12500, Loss= 1.1019\n",
      "Epoch 3, Step 2500, Loss= 1.3773\n",
      "Epoch 3, Step 5000, Loss= 1.8691\n",
      "Epoch 3, Step 7500, Loss= 0.2945\n",
      "Epoch 3, Step 10000, Loss= 0.8074\n",
      "Epoch 3, Step 12500, Loss= 0.8841\n",
      "Epoch 4, Step 2500, Loss= 1.3149\n",
      "Epoch 4, Step 5000, Loss= 0.7557\n",
      "Epoch 4, Step 7500, Loss= 0.9237\n",
      "Epoch 4, Step 10000, Loss= 0.3721\n",
      "Epoch 4, Step 12500, Loss= 0.9601\n",
      "Training Complete\n",
      "Accuracy of the network: 61.94 %\n",
      "Accuracy of plane : 65.600%\n",
      "Accuracy of car : 74.500%\n",
      "Accuracy of bird : 46.100%\n",
      "Accuracy of cat : 51.300%\n",
      "Accuracy of deer : 51.400%\n",
      "Accuracy of dog : 45.200%\n",
      "Accuracy of frog : 69.200%\n",
      "Accuracy of horse : 73.800%\n",
      "Accuracy of ship : 75.000%\n",
      "Accuracy of truck : 67.300%\n"
     ]
    }
   ],
   "source": [
    "train_model(model, train_loader, test_loader, epochs, loss_function, optimizer, batch_size, classes)"
   ]
  }
 ],
 "metadata": {
  "kernelspec": {
   "display_name": "base",
   "language": "python",
   "name": "python3"
  },
  "language_info": {
   "codemirror_mode": {
    "name": "ipython",
    "version": 3
   },
   "file_extension": ".py",
   "mimetype": "text/x-python",
   "name": "python",
   "nbconvert_exporter": "python",
   "pygments_lexer": "ipython3",
   "version": "3.12.7"
  }
 },
 "nbformat": 4,
 "nbformat_minor": 5
}
