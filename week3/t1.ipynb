{
  "cells": [
    {
      "cell_type": "code",
      "execution_count": null,
      "id": "fd5930bc",
      "metadata": {
        "id": "fd5930bc"
      },
      "outputs": [],
      "source": [
        "# Date: 28/5/25\n",
        "# Author: Om Godaage\n",
        "# Load this notebook up in kaggle or google colab if it takes too long to run locally"
      ]
    },
    {
      "cell_type": "code",
      "execution_count": null,
      "id": "6c2f5a01",
      "metadata": {
        "id": "6c2f5a01"
      },
      "outputs": [],
      "source": [
        "import torch\n",
        "from torch.utils.data import TensorDataset, DataLoader\n",
        "import torch.nn as nn\n",
        "import torch.optim as optim\n",
        "import torchvision\n",
        "import torchvision.transforms as transforms\n",
        "import pandas as pd\n",
        "import os"
      ]
    },
    {
      "cell_type": "code",
      "execution_count": null,
      "id": "44c83853",
      "metadata": {
        "id": "44c83853"
      },
      "outputs": [],
      "source": [
        "# Set environment variables for reproducibility\n",
        "torch.backends.cudnn.benchmark = False\n",
        "torch.backends.cudnn.deterministic = True\n",
        "torch.use_deterministic_algorithms(True, warn_only=True)\n",
        "\n",
        "os.environ[\"CUBLAS_WORKSPACE_CONFIG\"] = \":4096:8\"\n",
        "\n",
        "torch.manual_seed(40)\n",
        "torch.cuda.manual_seed_all(40)"
      ]
    },
    {
      "cell_type": "code",
      "execution_count": null,
      "id": "2fe592ca",
      "metadata": {
        "colab": {
          "base_uri": "https://localhost:8080/"
        },
        "collapsed": true,
        "id": "2fe592ca",
        "outputId": "e7bbeef3-bcb1-43da-ef8c-38ab763476f1"
      },
      "outputs": [],
      "source": [
        "# download the dataset\n",
        "!wget https://www.dropbox.com/scl/fi/vb2uvduhmcyftrlp157wj/dataset.tar.gz?rlkey=y2cfj7yj3vqtre3ma0mcjk7id&st=wysnn8rr&dl=0\n",
        "!mv dataset.tar.gz?rlkey=y2cfj7yj3vqtre3ma0mcjk7id dataset.tar.gz\n",
        "!tar -xvzf dataset.tar.gz"
      ]
    },
    {
      "cell_type": "code",
      "execution_count": null,
      "id": "7d460de4",
      "metadata": {
        "id": "7d460de4"
      },
      "outputs": [],
      "source": [
        "if torch.cuda.is_available():\n",
        "    device = 'cuda'\n",
        "else:\n",
        "    device = 'cpu'"
      ]
    },
    {
      "cell_type": "code",
      "execution_count": null,
      "id": "7d105c1c",
      "metadata": {
        "id": "7d105c1c"
      },
      "outputs": [],
      "source": [
        "def read_image_tensor(image_folder,transform,num_images=None):\n",
        "    if num_images==None:\n",
        "        num_images = len(os.listdir(image_folder))\n",
        "    images = []\n",
        "    for i in range(num_images):\n",
        "        img = torchvision.io.read_image(os.path.join(image_folder,f\"{i}.jpg\")).float()\n",
        "        images.append(transform(img))\n",
        "    return torch.stack(images).to(device)"
      ]
    },
    {
      "cell_type": "code",
      "execution_count": null,
      "id": "57d28e18",
      "metadata": {
        "id": "57d28e18"
      },
      "outputs": [],
      "source": [
        "def get_labels(csv_file):\n",
        "    # TODO: Return a torch tensor after reading the labels in csv_file. Convert to float().\n",
        "    df = pd.read_csv(csv_file)\n",
        "    return torch.tensor(df[\"label\"].values).float().to(device)"
      ]
    },
    {
      "cell_type": "code",
      "execution_count": null,
      "id": "5c5bdcbf",
      "metadata": {
        "id": "5c5bdcbf"
      },
      "outputs": [],
      "source": [
        "img_size = (256,256)\n",
        "base_transform = transforms.Compose(\n",
        "    [transforms.Resize(img_size)\n",
        "    ]\n",
        ")\n",
        "train_X = read_image_tensor(\"dataset/dataset/train/\",base_transform)/256\n",
        "train_Y = get_labels(\"dataset/dataset/train.csv\")\n",
        "test_X = read_image_tensor(\"dataset/dataset/test/\",base_transform)/256\n",
        "test_Y = get_labels(\"dataset/dataset/test.csv\")"
      ]
    },
    {
      "cell_type": "code",
      "execution_count": null,
      "id": "3ab2a63f",
      "metadata": {
        "id": "3ab2a63f"
      },
      "outputs": [],
      "source": [
        "def train_model(model, train_loader, test_loader, num_epochs, loss_function, optimizer):\n",
        "    # TODO: Make sure you read through these lines of code and understand all key lines.\n",
        "    # For example: Why do you need to zero out the gradients using optimizer.zero_grad() in the for loop?\n",
        "    for epoch in range(num_epochs):\n",
        "        model.train()\n",
        "        total_loss = 0.0\n",
        "        for i, data in enumerate(train_loader):\n",
        "            inputs,labels = data\n",
        "            optimizer.zero_grad()\n",
        "            output = model(inputs)\n",
        "            loss = loss_function(output,labels.view(output.shape))\n",
        "            loss.backward()\n",
        "            optimizer.step()\n",
        "            total_loss += loss.item()\n",
        "        average_loss = total_loss/len(train_loader)\n",
        "\n",
        "        print(f\"Epoch {epoch+1}/{num_epochs}, Loss: {average_loss:.4f}\")\n",
        "        model.eval()\n",
        "        correct = 0\n",
        "        total = 0\n",
        "        with torch.no_grad():\n",
        "            for data in test_loader:\n",
        "                inputs, labels = data\n",
        "                outputs = model(inputs)\n",
        "                pred = (outputs > 0.5)*1\n",
        "                correct += (pred==labels.view(pred.shape)).sum()\n",
        "                total += labels.size(0)\n",
        "            accur = 100*correct/total\n",
        "            print(f\"Test Accuracy after Epoch {epoch+1}: {accur:.2f}%\")\n",
        "\n",
        "    print(\"Training done.\")"
      ]
    },
    {
      "cell_type": "code",
      "execution_count": null,
      "id": "03d6daf2",
      "metadata": {
        "id": "03d6daf2"
      },
      "outputs": [],
      "source": [
        "# PART 1: TODO\n",
        "# Write down the model description\n",
        "# model = ...\n",
        "# Relevant torch.nn classes you will need include nn.Sequential, nn.Conv2d, nn.MaxPool2d and so on.\n",
        "model = nn.Sequential(\n",
        "    #Convolutional Layer 1: 16 2D filters of kernel size 3 with stride factor of 1 and padding of 1.\n",
        "    nn.Conv2d(in_channels=3, out_channels=16, kernel_size=3, stride=1, padding=1),\n",
        "    #ReLU layer 1.\n",
        "    nn.ReLU(),\n",
        "    #Max pooling layer 1: Kernel size 2 and stride 2.\n",
        "    nn.MaxPool2d(kernel_size=2, stride=2),\n",
        "    #Convolutional layer 2: 32 2D filters of kernel size 3 with stride factor of 1 and padding of 1.\n",
        "    nn.Conv2d(in_channels=16, out_channels=32, kernel_size=3, stride=1, padding=1),\n",
        "    #ReLU layer 2.\n",
        "    nn.ReLU(),\n",
        "    #Max pooling layer 2: Kernel size 2 and stride 2.\n",
        "    nn.MaxPool2d(kernel_size=2, stride=2),\n",
        "    #Flatten into a linear layer with 32 x 64 x 64 input nodes and 64 output nodes.\n",
        "    nn.Flatten(),\n",
        "    nn.Linear(32*64*64, 64),\n",
        "    #ReLU layer 3.\n",
        "    nn.ReLU(),\n",
        "    #Linear layer mapping down 64 dimensions to 1\n",
        "    nn.Linear(64, 1),\n",
        "    #sigmoid activation that feeds into a binary cross-entropy loss.\n",
        "    nn.Sigmoid()\n",
        ")"
      ]
    },
    {
      "cell_type": "code",
      "execution_count": null,
      "id": "586a7c4c",
      "metadata": {
        "colab": {
          "base_uri": "https://localhost:8080/"
        },
        "id": "586a7c4c",
        "outputId": "04699031-e017-455d-afde-10823499e121"
      },
      "outputs": [],
      "source": [
        "model.to(device)"
      ]
    },
    {
      "cell_type": "code",
      "execution_count": null,
      "id": "59078520",
      "metadata": {
        "id": "59078520"
      },
      "outputs": [],
      "source": [
        "train_dataset = TensorDataset(train_X, train_Y)\n",
        "test_dataset = TensorDataset(test_X, test_Y)\n",
        "batch_size = 64\n",
        "train_loader = DataLoader(train_dataset, batch_size=batch_size, shuffle=True)\n",
        "test_loader = DataLoader(test_dataset, batch_size=batch_size, shuffle=False)\n",
        "num_epochs = 30\n",
        "loss_func = nn.BCELoss()\n",
        "optimizer = optim.Adam(model.parameters())"
      ]
    },
    {
      "cell_type": "code",
      "execution_count": null,
      "id": "bf8e6cd4",
      "metadata": {
        "colab": {
          "base_uri": "https://localhost:8080/"
        },
        "id": "bf8e6cd4",
        "outputId": "c3cdc7f1-78f0-4125-8286-3c099a468ea3"
      },
      "outputs": [],
      "source": [
        "train_model(model,train_loader,test_loader,num_epochs,loss_func,optimizer)"
      ]
    },
    {
      "cell_type": "code",
      "execution_count": null,
      "id": "2c0dd683",
      "metadata": {
        "id": "2c0dd683"
      },
      "outputs": [],
      "source": [
        "def train_model_with_augment(model, augment_layer, train_loader, test_loader, num_epochs, loss_function, optimizer):\n",
        "    for epoch in range(num_epochs):\n",
        "        model.train()\n",
        "        total_loss = 0.0\n",
        "        for i, data in enumerate(train_loader):\n",
        "            inputs,labels = data\n",
        "            optimizer.zero_grad()\n",
        "            output = model(augment_layer(inputs))\n",
        "            loss = loss_function(output,labels.view(output.shape))\n",
        "            loss.backward()\n",
        "            optimizer.step()\n",
        "            total_loss += loss.item()\n",
        "        average_loss = total_loss/len(train_loader)\n",
        "\n",
        "        print(f\"Epoch {epoch+1}/{num_epochs}, Loss: {average_loss:.4f}\")\n",
        "        model.eval()\n",
        "        correct = 0\n",
        "        total = 0\n",
        "        with torch.no_grad():\n",
        "            for data in test_loader:\n",
        "                inputs, labels = data\n",
        "                outputs = model(inputs)\n",
        "                pred = (outputs > 0.5)*1\n",
        "                correct += (pred==labels.view(pred.shape)).sum()\n",
        "                total += labels.size(0)\n",
        "            accur = 100*correct/total\n",
        "            print(f\"Test Accuracy after Epoch {epoch+1}: {accur:.2f}%\")\n",
        "\n",
        "    print(\"Training done.\")"
      ]
    },
    {
      "cell_type": "code",
      "execution_count": null,
      "id": "30555949",
      "metadata": {
        "id": "30555949"
      },
      "outputs": [],
      "source": [
        "optimizer = optim.Adam(model.parameters())\n",
        "loss_func = nn.BCELoss()\n",
        "# PART 2: TODO\n",
        "# Chain together transforms to create a set of allowed transformations within augment\n",
        "# Available transformations are listed here: https://pytorch.org/vision/0.9/transforms.html\n",
        "# Rotation, ColorJitter are popular transforms\n",
        "from torchvision.transforms import v2\n",
        "augment = transforms.Compose([\n",
        "    transforms.ColorJitter(),\n",
        "    transforms.RandomHorizontalFlip(p=0.4),\n",
        "    transforms.RandomRotation(degrees=15),\n",
        "    transforms.RandomAffine(degrees=10, translate=(0.1, 0.1))\n",
        "])\n",
        "train_model_with_augment(model, augment, train_loader, test_loader, num_epochs, loss_func, optimizer)"
      ]
    },
    {
      "cell_type": "code",
      "execution_count": null,
      "id": "5777f459",
      "metadata": {},
      "outputs": [],
      "source": []
    }
  ],
  "metadata": {
    "colab": {
      "provenance": []
    },
    "kernelspec": {
      "display_name": "base",
      "language": "python",
      "name": "python3"
    },
    "language_info": {
      "codemirror_mode": {
        "name": "ipython",
        "version": 3
      },
      "file_extension": ".py",
      "mimetype": "text/x-python",
      "name": "python",
      "nbconvert_exporter": "python",
      "pygments_lexer": "ipython3",
      "version": "3.12.7"
    }
  },
  "nbformat": 4,
  "nbformat_minor": 5
}
